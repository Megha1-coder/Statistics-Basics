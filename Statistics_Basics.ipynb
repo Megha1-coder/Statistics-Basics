{
  "nbformat": 4,
  "nbformat_minor": 0,
  "metadata": {
    "colab": {
      "provenance": []
    },
    "kernelspec": {
      "name": "python3",
      "display_name": "Python 3"
    },
    "language_info": {
      "name": "python"
    }
  },
  "cells": [
    {
      "cell_type": "markdown",
      "source": [
        "**Assignment Questions**"
      ],
      "metadata": {
        "id": "uHuQDehkewA9"
      }
    },
    {
      "cell_type": "markdown",
      "source": [
        "Q 1:  Explain the different types of data (qualitative and quantitative) and provide examples of each. Discuss\n",
        "nominal, ordinal, interval, and ratio scales.\n",
        "\n",
        "A 1: Data can be qualitative or quantitative, and can be measured using different scales.\n",
        "\n",
        "Qualitative data\n",
        "Descriptive information that can't be measured numerically. Examples include colors, smells, and feelings.\n",
        "\n",
        "Quantitative data\n",
        "Numerical information that can be counted or measured. Examples include height, weight, and time.\n",
        "\n",
        "Scales of measurement\n",
        "\n",
        "Nominal: Used to label variables without quantitative value. For example, male or female.\n",
        "\n",
        "Ordinal: Used to rank data.\n",
        "\n",
        "Interval: Used to measure data on a scale where equal intervals can be inferred between data points.\n",
        "\n",
        "Ratio: Used to measure data on a scale where there is a true zero point.\n",
        "\n",
        "\n",
        "Q 2: What are the measures of central tendency, and when should you use each? Discuss the mean, median,\n",
        "and mode with examples and situations where each is appropriate.\n",
        "\n",
        "A 2: Measures of central tendency help you find the middle, or the average, of a data set. The 3 most common measures of central tendency are the mean, median and mode. The mode is the most frequent value. The median is the middle number in an ordered data set.\n",
        "\n",
        "For a nominal level, you can only use the mode to find the most frequent value. For an ordinal level or ranked data, you can also use the median to find the value in the middle of your data set. For interval or ratio levels, in addition to the mode and median, you can use the mean to find the average value.\n",
        "\n",
        "\n",
        "Q 3:  Explain the concept of dispersion. How do variance and standard deviation measure the spread of data?\n",
        "\n",
        "A 3: Dispersion is a statistical term that describes how spread out a set of data is. Variance and standard deviation are two common measures of dispersion.\n",
        "Explanation\n",
        "Dispersion: The extent to which a set of data is stretched or squeezed.\n",
        "Variance: The average squared difference between each data point and the mean.\n",
        "Standard deviation: The square root of the variance.\n",
        "\n",
        "\n",
        "Q 4: What is a box plot, and what can it tell you about the distribution of data?\n",
        "\n",
        "A 4: A boxplot is a graph summarising a set of data. The shape of the boxplot shows how the data is distributed and it also shows any outliers. It is a useful way to compare different sets of data as you can draw more than one boxplot per graph.\n",
        "\n",
        "\n",
        "Q 5: Discuss the role of random sampling in making inferences about populations.\n",
        "\n",
        "A 5: We can use data from a random sample to make inferences about a population. In this case, our population is all of the visitors of the zoo on Friday, and the random sample is the visitors that were randomly selected by the owner and asked which exhibit was their favorite.\n",
        "\n",
        "\n",
        "Q 6: Explain the concept of skewness and its types. How does skewness affect the interpretation of data?\n",
        "\n",
        "A 6: Skewness is the degree of asymmetry observed in a probability distribution. When data points on a bell curve are not distributed symmetrically to the left and right sides of the median, the bell curve is skewed. Distributions can be positive and right-skewed, or negative and left-skewed.\n",
        "\n",
        "\n",
        "Q 7: What is the interquartile range (IQR), and how is it used to detect outliers?\n",
        "\n",
        "A 7: IQR is the range between the first and the third quartiles namely Q1 and Q3: IQR = Q3 – Q1. The data points which fall below Q1 - 1.5 IQR or above Q3 + 1.5 IQR are outliers.\n",
        "\n",
        "\n",
        "Q 8: Discuss the conditions under which the binomial distribution is used.\n",
        "\n",
        "A 8: The Binomial Distribution:\n",
        "\n",
        "The number of observations n is fixed.\n",
        "\n",
        "Each observation is independent.\n",
        "\n",
        "Each observation represents one of two outcomes (\"success\" or \"failure\").\n",
        "\n",
        "The probability of \"success\" p is the same for each outcome.\n",
        "\n",
        "\n",
        "Q 9: Explain the properties of the normal distribution and the empirical rule (68-95-99.7 rule).\n",
        "\n",
        "A 9: Normal distributions have key characteristics that are easy to spot in graphs: The mean, median and mode are exactly the same. The distribution is symmetric about the mean—half the values fall below the mean and half above the mean.\n",
        "In statistics, the 68-95-99.7 rule, also known as the empirical rule, and sometimes abbreviated 3sr, is a shorthand used to remember the percentage of values that lie within an interval estimate in a normal distribution: approximately 68%, 95%, and 99.7% of the values lie within one, two, and three standard deviations.\n",
        "\n",
        "\n",
        "Q 10: Provide a real-life example of a Poisson process and calculate the probability for a specific event.\n",
        "\n",
        "A 10: The Poisson process can be applied to a wide range of real-world situations, such as the arrival of customers at a store, the number of defects in a manufacturing process, the number of calls received by a call center, the number of accidents at a particular intersection, and the number of emails received by a person."
      ],
      "metadata": {
        "id": "vqzCAUaee6_o"
      }
    },
    {
      "cell_type": "code",
      "source": [
        "import scipy.stats\n",
        "from scipy.stats import poisson\n",
        "poisson.pmf(k=5, mu=3) # probaility of 5\n"
      ],
      "metadata": {
        "colab": {
          "base_uri": "https://localhost:8080/"
        },
        "id": "2GF7R58btV3D",
        "outputId": "2697f89e-c027-4a02-fbb6-5841552c7e10"
      },
      "execution_count": 6,
      "outputs": [
        {
          "output_type": "execute_result",
          "data": {
            "text/plain": [
              "0.10081881344492458"
            ]
          },
          "metadata": {},
          "execution_count": 6
        }
      ]
    },
    {
      "cell_type": "markdown",
      "source": [
        "Q 11:  Explain what a random variable is and differentiate between discrete and continuous random variables.\n",
        "\n",
        "A 11: A random variable is a variable that has an unknown value or a function that assigns values to outcomes in an experiment. Random variables can be discrete or continuous.\n",
        "\n",
        "A discrete random variable is a type of random variable that has a countable number of distinct values, such as heads or tails, playing cards, or the sides of a die. A continuous random variable can reflect an infinite number of potential values, such as the average rainfall in a region.\n",
        "\n",
        "Q 12: Provide an example dataset, calculate both covariance and correlation, and interpret the results."
      ],
      "metadata": {
        "id": "zqDqas4J1-EG"
      }
    },
    {
      "cell_type": "code",
      "source": [
        "import numpy as np\n",
        "import scipy.stats\n",
        "arr1= [1,2,3,4,5]\n",
        "arr2= [6,7,8,9,10]\n",
        "cov= np.cov(arr1,arr2)\n",
        "corr= scipy.stats.pearsonr(arr1,arr2)"
      ],
      "metadata": {
        "id": "3FFVuhE71zM4"
      },
      "execution_count": 3,
      "outputs": []
    },
    {
      "cell_type": "code",
      "source": [
        "cov"
      ],
      "metadata": {
        "colab": {
          "base_uri": "https://localhost:8080/"
        },
        "id": "6X417-3f1zKl",
        "outputId": "ee30b9f1-052d-4684-99ab-339ad70ea943"
      },
      "execution_count": 4,
      "outputs": [
        {
          "output_type": "execute_result",
          "data": {
            "text/plain": [
              "array([[2.5, 2.5],\n",
              "       [2.5, 2.5]])"
            ]
          },
          "metadata": {},
          "execution_count": 4
        }
      ]
    },
    {
      "cell_type": "code",
      "execution_count": 5,
      "metadata": {
        "colab": {
          "base_uri": "https://localhost:8080/"
        },
        "id": "I_pAfwdCd7yX",
        "outputId": "c796d539-d4e5-4636-8543-973992c7b88a"
      },
      "outputs": [
        {
          "output_type": "execute_result",
          "data": {
            "text/plain": [
              "PearsonRResult(statistic=1.0, pvalue=0.0)"
            ]
          },
          "metadata": {},
          "execution_count": 5
        }
      ],
      "source": [
        "corr"
      ]
    },
    {
      "cell_type": "code",
      "source": [],
      "metadata": {
        "id": "RFO0XWpV3NR8"
      },
      "execution_count": null,
      "outputs": []
    }
  ]
}